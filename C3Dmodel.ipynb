{
  "nbformat": 4,
  "nbformat_minor": 0,
  "metadata": {
    "colab": {
      "name": "C3Dmodel.ipynb",
      "provenance": [],
      "machine_shape": "hm"
    },
    "kernelspec": {
      "name": "python3",
      "display_name": "Python 3"
    },
    "language_info": {
      "name": "python"
    },
    "accelerator": "GPU"
  },
  "cells": [
    {
      "cell_type": "code",
      "metadata": {
        "id": "REEj0sMxqVRn"
      },
      "source": [
        "from keras.models import Sequential,Model\n",
        "from keras.layers.core import Dense, Dropout, Flatten\n",
        "from keras.layers.convolutional import Convolution3D, MaxPooling3D, ZeroPadding3D\n",
        "from tensorflow.keras.optimizers import SGD\n",
        "from keras.layers import Add,Input,Conv3D,AveragePooling3D"
      ],
      "execution_count": null,
      "outputs": []
    },
    {
      "cell_type": "code",
      "metadata": {
        "id": "JR2NuBDnquIz"
      },
      "source": [
        "# single C3D model\n",
        "\n",
        "def C3D_model(summary=False):\n",
        "    \"\"\" Return the Keras model of the network\n",
        "    \"\"\"\n",
        "    model = Sequential()\n",
        "    # 1st layer group\n",
        "    # input are 16 frames with size 112*112 with 3 channels\n",
        "    model.add(Convolution3D(64, (3,3,3), activation='relu', \n",
        "                            padding='same', name='conv1',\n",
        "                            strides=(1, 1, 1), \n",
        "                            input_shape=(16, 112, 112,3)))\n",
        "    model.add(MaxPooling3D(pool_size=(1, 2, 2), strides=(1, 2, 2), \n",
        "                           padding='valid', name='pool1'))\n",
        "    # 2nd layer group\n",
        "    model.add(Convolution3D(128, (3,3,3), activation='relu', \n",
        "                            padding='same', name='conv2',\n",
        "                            strides=(1, 1, 1)))\n",
        "    model.add(MaxPooling3D(pool_size=(2, 2, 2), strides=(2, 2, 2), \n",
        "                           padding='valid', name='pool2'))\n",
        "    # 3rd layer group\n",
        "    model.add(Convolution3D(256, (3,3,3), activation='relu', \n",
        "                            padding='same', name='conv3a',\n",
        "                            strides=(1, 1, 1)))\n",
        "    model.add(Convolution3D(256, (3,3,3), activation='relu', \n",
        "                            padding='same', name='conv3b',\n",
        "                            strides=(1, 1, 1)))\n",
        "    model.add(MaxPooling3D(pool_size=(2, 2, 2), strides=(2, 2, 2), \n",
        "                           padding='valid', name='pool3'))\n",
        "    # 4th layer group\n",
        "    model.add(Convolution3D(512, (3,3,3), activation='relu', \n",
        "                            padding='same', name='conv4a',\n",
        "                            strides=(1, 1, 1)))\n",
        "    model.add(Convolution3D(512, (3,3,3), activation='relu', \n",
        "                            padding='same', name='conv4b',\n",
        "                            strides=(1, 1, 1)))\n",
        "    model.add(MaxPooling3D(pool_size=(2, 2, 2), strides=(2, 2, 2), \n",
        "                           padding='valid', name='pool4'))\n",
        "    # 5th layer group\n",
        "    model.add(Convolution3D(512, (3,3,3), activation='relu', \n",
        "                            padding='same', name='conv5a',\n",
        "                            strides=(1, 1, 1)))\n",
        "    model.add(Convolution3D(512, (3,3,3), activation='relu', \n",
        "                            padding='same', name='conv5b',\n",
        "                            strides=(1, 1, 1)))\n",
        "    model.add(ZeroPadding3D(padding=(0, 1, 1)))\n",
        "    model.add(MaxPooling3D(pool_size=(2, 2, 2), strides=(2, 2, 2), \n",
        "                           padding='valid', name='pool5'))\n",
        "    model.add(Flatten())\n",
        "    # FC layers group\n",
        "    model.add(Dense(4096, activation='relu', name='fc6'))\n",
        "    model.add(Dropout(.5))\n",
        "    model.add(Dense(4096, activation='relu', name='fc7'))\n",
        "    model.add(Dropout(.5))\n",
        "    model.add(Dense(487, activation='softmax', name='fc8'))\n",
        "    if summary:\n",
        "        print(model.summary())\n",
        "    return model"
      ],
      "execution_count": null,
      "outputs": []
    },
    {
      "cell_type": "code",
      "source": [
        "#double C3D model  \n",
        "\n",
        "def C3D_model(input,idx):\n",
        "    \"\"\" Return the Keras model of the network\n",
        "    \"\"\"\n",
        "    # 1st layer group\n",
        "    # input are 16 frames with size 112*112 with 3 channels\n",
        "    h1 = Conv3D(64,(3,3,3),activation='relu',padding='same', name='conv1'+idx,strides=(1, 1, 1))(input)\n",
        "    p1 = MaxPooling3D(pool_size=(1, 2, 2), strides=(1, 2, 2), padding='valid', name='pool1'+idx)(h1)\n",
        "    # 2nd layer group\n",
        "    h2 = Conv3D(128,(3,3,3), activation='relu', padding='same', name='conv2'+idx,strides=(1, 1, 1))(p1)\n",
        "    p2 = MaxPooling3D(pool_size=(2, 2, 2), strides=(2, 2, 2), padding='valid', name='pool2'+idx)(h2)\n",
        "    # 3rd layer group\n",
        "    h3 = Conv3D(256, (3,3,3), activation='relu',padding='same', name='conv3a'+idx,strides=(1, 1, 1))(p2)\n",
        "    h3_ = Conv3D(256, (3,3,3), activation='relu', padding='same', name='conv3b'+idx,strides=(1, 1, 1))(h3)\n",
        "    p3 = MaxPooling3D(pool_size=(2, 2, 2), strides=(2, 2, 2), padding='valid', name='pool3'+idx)(h3_)\n",
        "    # 4th layer group\n",
        "    h4 = Conv3D(512, (3,3,3), activation='relu', padding='same', name='conv4a'+idx,strides=(1, 1, 1))(p3)\n",
        "    h4_ = Conv3D(512, (3,3,3), activation='relu', padding='same', name='conv4b'+idx,strides=(1, 1, 1))(h4)\n",
        "    p4 = MaxPooling3D(pool_size=(2, 2, 2), strides=(2, 2, 2), padding='valid', name='pool4'+idx)(h4_)\n",
        "    # 5th layer group\n",
        "    h5 = Conv3D(512, (3,3,3), activation='relu', padding='same', name='conv5a'+idx,strides=(1, 1, 1))(p4)\n",
        "    h5_ = Conv3D(512, (3,3,3), activation='relu', padding='same', name='conv5b'+idx,strides=(1, 1, 1))(h5)\n",
        "    z5 = ZeroPadding3D(padding=(0, 1, 1))(h5_)\n",
        "    p5 = MaxPooling3D(pool_size=(2, 2, 2), strides=(2, 2, 2), padding='valid', name='pool5'+idx)(z5)\n",
        "    f5 = Flatten()(p5)\n",
        "    return f5\n",
        "\n",
        "def double_c3d_model():\n",
        "    # input \n",
        "    input = Input(shape =(16, 224, 224,3)) \n",
        "    # downsample by 2\n",
        "    i1 = AveragePooling3D(pool_size=(1, 2, 2), strides=(1,2,2))(input)\n",
        "    # double c3d model\n",
        "    o1 = C3D_model(i1,'f')\n",
        "    o2 = C3D_model(i1,'s')\n",
        "    # c3d model fused\n",
        "    fusion_result = Add()([o1,o2])\n",
        "    # FC layers group\n",
        "    d6 = Dense(4096, activation='relu', name='fc6')(fusion_result)\n",
        "    dd6 = Dropout(.5)(d6)\n",
        "    d7 = Dense(4096, activation='relu', name='fc7')(dd6)\n",
        "    dd7 = Dropout(.5)(d7)\n",
        "    output = Dense(487, activation='softmax', name='fc8')(dd7)\n",
        "    # output of double C3D model\n",
        "    model = Model(inputs=input,outputs=output)\n",
        "    return model\n",
        "\n",
        "model = double_c3d_model()\n",
        "model.summary()\n",
        "model.compile(optimizer=\"Adam\", loss=\"sparse_categorical_crossentropy\", metrics=[\"acc\"])"
      ],
      "metadata": {
        "colab": {
          "base_uri": "https://localhost:8080/"
        },
        "id": "du-JGKZWrTFC",
        "outputId": "d18bf7e7-39dc-4e4a-b287-d11df8433f73"
      },
      "execution_count": null,
      "outputs": [
        {
          "output_type": "stream",
          "name": "stdout",
          "text": [
            "Model: \"model\"\n",
            "__________________________________________________________________________________________________\n",
            " Layer (type)                   Output Shape         Param #     Connected to                     \n",
            "==================================================================================================\n",
            " input_1 (InputLayer)           [(None, 16, 224, 22  0           []                               \n",
            "                                4, 3)]                                                            \n",
            "                                                                                                  \n",
            " average_pooling3d (AveragePool  (None, 16, 112, 112  0          ['input_1[0][0]']                \n",
            " ing3D)                         , 3)                                                              \n",
            "                                                                                                  \n",
            " conv1f (Conv3D)                (None, 16, 112, 112  5248        ['average_pooling3d[0][0]']      \n",
            "                                , 64)                                                             \n",
            "                                                                                                  \n",
            " conv1s (Conv3D)                (None, 16, 112, 112  5248        ['average_pooling3d[0][0]']      \n",
            "                                , 64)                                                             \n",
            "                                                                                                  \n",
            " pool1f (MaxPooling3D)          (None, 16, 56, 56,   0           ['conv1f[0][0]']                 \n",
            "                                64)                                                               \n",
            "                                                                                                  \n",
            " pool1s (MaxPooling3D)          (None, 16, 56, 56,   0           ['conv1s[0][0]']                 \n",
            "                                64)                                                               \n",
            "                                                                                                  \n",
            " conv2f (Conv3D)                (None, 16, 56, 56,   221312      ['pool1f[0][0]']                 \n",
            "                                128)                                                              \n",
            "                                                                                                  \n",
            " conv2s (Conv3D)                (None, 16, 56, 56,   221312      ['pool1s[0][0]']                 \n",
            "                                128)                                                              \n",
            "                                                                                                  \n",
            " pool2f (MaxPooling3D)          (None, 8, 28, 28, 1  0           ['conv2f[0][0]']                 \n",
            "                                28)                                                               \n",
            "                                                                                                  \n",
            " pool2s (MaxPooling3D)          (None, 8, 28, 28, 1  0           ['conv2s[0][0]']                 \n",
            "                                28)                                                               \n",
            "                                                                                                  \n",
            " conv3af (Conv3D)               (None, 8, 28, 28, 2  884992      ['pool2f[0][0]']                 \n",
            "                                56)                                                               \n",
            "                                                                                                  \n",
            " conv3as (Conv3D)               (None, 8, 28, 28, 2  884992      ['pool2s[0][0]']                 \n",
            "                                56)                                                               \n",
            "                                                                                                  \n",
            " conv3bf (Conv3D)               (None, 8, 28, 28, 2  1769728     ['conv3af[0][0]']                \n",
            "                                56)                                                               \n",
            "                                                                                                  \n",
            " conv3bs (Conv3D)               (None, 8, 28, 28, 2  1769728     ['conv3as[0][0]']                \n",
            "                                56)                                                               \n",
            "                                                                                                  \n",
            " pool3f (MaxPooling3D)          (None, 4, 14, 14, 2  0           ['conv3bf[0][0]']                \n",
            "                                56)                                                               \n",
            "                                                                                                  \n",
            " pool3s (MaxPooling3D)          (None, 4, 14, 14, 2  0           ['conv3bs[0][0]']                \n",
            "                                56)                                                               \n",
            "                                                                                                  \n",
            " conv4af (Conv3D)               (None, 4, 14, 14, 5  3539456     ['pool3f[0][0]']                 \n",
            "                                12)                                                               \n",
            "                                                                                                  \n",
            " conv4as (Conv3D)               (None, 4, 14, 14, 5  3539456     ['pool3s[0][0]']                 \n",
            "                                12)                                                               \n",
            "                                                                                                  \n",
            " conv4bf (Conv3D)               (None, 4, 14, 14, 5  7078400     ['conv4af[0][0]']                \n",
            "                                12)                                                               \n",
            "                                                                                                  \n",
            " conv4bs (Conv3D)               (None, 4, 14, 14, 5  7078400     ['conv4as[0][0]']                \n",
            "                                12)                                                               \n",
            "                                                                                                  \n",
            " pool4f (MaxPooling3D)          (None, 2, 7, 7, 512  0           ['conv4bf[0][0]']                \n",
            "                                )                                                                 \n",
            "                                                                                                  \n",
            " pool4s (MaxPooling3D)          (None, 2, 7, 7, 512  0           ['conv4bs[0][0]']                \n",
            "                                )                                                                 \n",
            "                                                                                                  \n",
            " conv5af (Conv3D)               (None, 2, 7, 7, 512  7078400     ['pool4f[0][0]']                 \n",
            "                                )                                                                 \n",
            "                                                                                                  \n",
            " conv5as (Conv3D)               (None, 2, 7, 7, 512  7078400     ['pool4s[0][0]']                 \n",
            "                                )                                                                 \n",
            "                                                                                                  \n",
            " conv5bf (Conv3D)               (None, 2, 7, 7, 512  7078400     ['conv5af[0][0]']                \n",
            "                                )                                                                 \n",
            "                                                                                                  \n",
            " conv5bs (Conv3D)               (None, 2, 7, 7, 512  7078400     ['conv5as[0][0]']                \n",
            "                                )                                                                 \n",
            "                                                                                                  \n",
            " zero_padding3d (ZeroPadding3D)  (None, 2, 9, 9, 512  0          ['conv5bf[0][0]']                \n",
            "                                )                                                                 \n",
            "                                                                                                  \n",
            " zero_padding3d_1 (ZeroPadding3  (None, 2, 9, 9, 512  0          ['conv5bs[0][0]']                \n",
            " D)                             )                                                                 \n",
            "                                                                                                  \n",
            " pool5f (MaxPooling3D)          (None, 1, 4, 4, 512  0           ['zero_padding3d[0][0]']         \n",
            "                                )                                                                 \n",
            "                                                                                                  \n",
            " pool5s (MaxPooling3D)          (None, 1, 4, 4, 512  0           ['zero_padding3d_1[0][0]']       \n",
            "                                )                                                                 \n",
            "                                                                                                  \n",
            " flatten (Flatten)              (None, 8192)         0           ['pool5f[0][0]']                 \n",
            "                                                                                                  \n",
            " flatten_1 (Flatten)            (None, 8192)         0           ['pool5s[0][0]']                 \n",
            "                                                                                                  \n",
            " add (Add)                      (None, 8192)         0           ['flatten[0][0]',                \n",
            "                                                                  'flatten_1[0][0]']              \n",
            "                                                                                                  \n",
            " fc6 (Dense)                    (None, 4096)         33558528    ['add[0][0]']                    \n",
            "                                                                                                  \n",
            " dropout (Dropout)              (None, 4096)         0           ['fc6[0][0]']                    \n",
            "                                                                                                  \n",
            " fc7 (Dense)                    (None, 4096)         16781312    ['dropout[0][0]']                \n",
            "                                                                                                  \n",
            " dropout_1 (Dropout)            (None, 4096)         0           ['fc7[0][0]']                    \n",
            "                                                                                                  \n",
            " fc8 (Dense)                    (None, 487)          1995239     ['dropout_1[0][0]']              \n",
            "                                                                                                  \n",
            "==================================================================================================\n",
            "Total params: 107,646,951\n",
            "Trainable params: 107,646,951\n",
            "Non-trainable params: 0\n",
            "__________________________________________________________________________________________________\n"
          ]
        }
      ]
    },
    {
      "cell_type": "code",
      "source": [
        "# mount on google drive\n",
        "import sys\n",
        "from google.colab import drive\n",
        "drive.mount('/content/drive')"
      ],
      "metadata": {
        "colab": {
          "base_uri": "https://localhost:8080/"
        },
        "id": "Z3qWFjebBbwQ",
        "outputId": "087d2588-8e12-4426-ae87-4f2f5352c5ca"
      },
      "execution_count": null,
      "outputs": [
        {
          "output_type": "stream",
          "name": "stdout",
          "text": [
            "Mounted at /content/drive\n"
          ]
        }
      ]
    },
    {
      "cell_type": "code",
      "source": [
        "# read the preprocessed data using pickle\n",
        "import pickle\n",
        "d = pickle.load(open('/content/drive/MyDrive/coms6998/d1.pkl','rb'))\n",
        "val = list(d.values())"
      ],
      "metadata": {
        "id": "lpBiJZRRD4YJ"
      },
      "execution_count": null,
      "outputs": []
    },
    {
      "cell_type": "code",
      "source": [
        "import numpy as np"
      ],
      "metadata": {
        "id": "qJ6T18oewEiH"
      },
      "execution_count": null,
      "outputs": []
    },
    {
      "cell_type": "code",
      "source": [
        "new_val = np.asarray(val[:1800])\n",
        "test_val = np.asarray(val[1800:2000])\n",
        "print(new_val.shape)"
      ],
      "metadata": {
        "colab": {
          "base_uri": "https://localhost:8080/"
        },
        "id": "29Ne-sUiwjny",
        "outputId": "1469bd7d-cb86-445e-b5c6-6c9b499648de"
      },
      "execution_count": null,
      "outputs": [
        {
          "output_type": "stream",
          "name": "stdout",
          "text": [
            "(1800, 16, 224, 224, 3)\n"
          ]
        }
      ]
    },
    {
      "cell_type": "code",
      "source": [
        "#load the data as dataframe\n",
        "import pandas as pd\n",
        "f = pd.read_excel('/content/drive/MyDrive/coms6998/labels.xlsx')\n",
        "label = list(f['label'])[:1800]\n",
        "test_label = list(f['label'])[1800:2000]\n",
        "print(len(label))"
      ],
      "metadata": {
        "colab": {
          "base_uri": "https://localhost:8080/"
        },
        "id": "og-Yd1zUvEz7",
        "outputId": "4ac2e3ce-831f-4755-9a0d-84488631cdbe"
      },
      "execution_count": null,
      "outputs": [
        {
          "output_type": "stream",
          "name": "stdout",
          "text": [
            "1800\n"
          ]
        }
      ]
    },
    {
      "cell_type": "code",
      "source": [
        "label = np.asarray(label)"
      ],
      "metadata": {
        "id": "qW1n0P9ywNjq"
      },
      "execution_count": null,
      "outputs": []
    },
    {
      "cell_type": "code",
      "source": [
        "# train_batch generator that yield training data to model\n",
        "def train_batch_generator(new_val,label):\n",
        "    for i in range(3):\n",
        "        print('Reading file {0}...........'.format(i))\n",
        "        X_train = new_val[i*600:(i+1)*600]\n",
        "        Y_train = label[i*600:(i+1)*600]\n",
        "        yield (X_train, Y_train)"
      ],
      "metadata": {
        "id": "NVdFI1vx3gOh"
      },
      "execution_count": null,
      "outputs": []
    },
    {
      "cell_type": "code",
      "source": [
        "# training the data on 1800 videos\n",
        "for x_train, y_train in train_batch_generator(new_val,label):\n",
        "    model.fit(x_train, y_train, batch_size = 8, epochs = 15)\n"
      ],
      "metadata": {
        "colab": {
          "base_uri": "https://localhost:8080/"
        },
        "id": "f3lqpId3jTIP",
        "outputId": "89650e8c-53bc-404f-e8da-2dda579eba82"
      },
      "execution_count": null,
      "outputs": [
        {
          "output_type": "stream",
          "name": "stdout",
          "text": [
            "Reading file 0...........\n",
            "Epoch 1/15\n",
            "75/75 [==============================] - 67s 745ms/step - loss: 168.8796 - acc: 0.1950\n",
            "Epoch 2/15\n",
            "75/75 [==============================] - 56s 745ms/step - loss: 1.8549 - acc: 0.1917\n",
            "Epoch 3/15\n",
            "75/75 [==============================] - 56s 745ms/step - loss: 1.8468 - acc: 0.2067\n",
            "Epoch 4/15\n",
            "75/75 [==============================] - 56s 745ms/step - loss: 1.8467 - acc: 0.1933\n",
            "Epoch 5/15\n",
            "75/75 [==============================] - 56s 744ms/step - loss: 1.8369 - acc: 0.2050\n",
            "Epoch 6/15\n",
            "75/75 [==============================] - 56s 744ms/step - loss: 2.1652 - acc: 0.2000\n",
            "Epoch 7/15\n",
            "75/75 [==============================] - 56s 745ms/step - loss: 1.8301 - acc: 0.1883\n",
            "Epoch 8/15\n",
            "75/75 [==============================] - 56s 745ms/step - loss: 1.8299 - acc: 0.2017\n",
            "Epoch 9/15\n",
            "75/75 [==============================] - 56s 745ms/step - loss: 1.8364 - acc: 0.2083\n",
            "Epoch 10/15\n",
            "75/75 [==============================] - 56s 744ms/step - loss: 1.8218 - acc: 0.1767\n",
            "Epoch 11/15\n",
            "75/75 [==============================] - 56s 745ms/step - loss: 1.8280 - acc: 0.2017\n",
            "Epoch 12/15\n",
            "75/75 [==============================] - 56s 745ms/step - loss: 1.8129 - acc: 0.2167\n",
            "Epoch 13/15\n",
            "75/75 [==============================] - 56s 745ms/step - loss: 1.8272 - acc: 0.1967\n",
            "Epoch 14/15\n",
            "75/75 [==============================] - 56s 744ms/step - loss: 1.8224 - acc: 0.1800\n",
            "Epoch 15/15\n",
            "75/75 [==============================] - 56s 745ms/step - loss: 1.8077 - acc: 0.2583\n",
            "Reading file 1...........\n",
            "Epoch 1/15\n",
            "75/75 [==============================] - 56s 745ms/step - loss: 1.8289 - acc: 0.1867\n",
            "Epoch 2/15\n",
            "75/75 [==============================] - 56s 744ms/step - loss: 1.8185 - acc: 0.1967\n",
            "Epoch 3/15\n",
            "75/75 [==============================] - 56s 744ms/step - loss: 1.8328 - acc: 0.1717\n",
            "Epoch 4/15\n",
            "75/75 [==============================] - 56s 745ms/step - loss: 1.8226 - acc: 0.1717\n",
            "Epoch 5/15\n",
            "75/75 [==============================] - 56s 744ms/step - loss: 1.8350 - acc: 0.1767\n",
            "Epoch 6/15\n",
            "75/75 [==============================] - 56s 744ms/step - loss: 1.8262 - acc: 0.2000\n",
            "Epoch 7/15\n",
            "75/75 [==============================] - 56s 744ms/step - loss: 1.8178 - acc: 0.1983\n",
            "Epoch 8/15\n",
            "75/75 [==============================] - 56s 745ms/step - loss: 1.8169 - acc: 0.2050\n",
            "Epoch 9/15\n",
            "75/75 [==============================] - 56s 744ms/step - loss: 1.8256 - acc: 0.1883\n",
            "Epoch 10/15\n",
            "75/75 [==============================] - 56s 744ms/step - loss: 1.8280 - acc: 0.1883\n",
            "Epoch 11/15\n",
            "75/75 [==============================] - 56s 744ms/step - loss: 1.8175 - acc: 0.2050\n",
            "Epoch 12/15\n",
            "75/75 [==============================] - 56s 744ms/step - loss: 1.8248 - acc: 0.1900\n",
            "Epoch 13/15\n",
            "75/75 [==============================] - 56s 744ms/step - loss: 1.8136 - acc: 0.2350\n",
            "Epoch 14/15\n",
            "75/75 [==============================] - 56s 744ms/step - loss: 1.8224 - acc: 0.1583\n",
            "Epoch 15/15\n",
            "75/75 [==============================] - 56s 744ms/step - loss: 1.8188 - acc: 0.1983\n",
            "Reading file 2...........\n",
            "Epoch 1/15\n",
            "75/75 [==============================] - 56s 744ms/step - loss: 1.8374 - acc: 0.2250\n",
            "Epoch 2/15\n",
            "75/75 [==============================] - 56s 744ms/step - loss: 1.8355 - acc: 0.2000\n",
            "Epoch 3/15\n",
            "75/75 [==============================] - 56s 745ms/step - loss: 1.8340 - acc: 0.1967\n",
            "Epoch 4/15\n",
            "75/75 [==============================] - 56s 744ms/step - loss: 1.8279 - acc: 0.2150\n",
            "Epoch 5/15\n",
            "75/75 [==============================] - 56s 745ms/step - loss: 1.8284 - acc: 0.1967\n",
            "Epoch 6/15\n",
            "75/75 [==============================] - 56s 744ms/step - loss: 1.8298 - acc: 0.2100\n",
            "Epoch 7/15\n",
            "75/75 [==============================] - 56s 744ms/step - loss: 1.8320 - acc: 0.1967\n",
            "Epoch 8/15\n",
            "75/75 [==============================] - 56s 744ms/step - loss: 1.8332 - acc: 0.1800\n",
            "Epoch 9/15\n",
            "75/75 [==============================] - 56s 744ms/step - loss: 1.8309 - acc: 0.1983\n",
            "Epoch 10/15\n",
            "75/75 [==============================] - 56s 744ms/step - loss: 1.8306 - acc: 0.1833\n",
            "Epoch 11/15\n",
            "75/75 [==============================] - 56s 744ms/step - loss: 1.8299 - acc: 0.2133\n",
            "Epoch 12/15\n",
            "75/75 [==============================] - 56s 744ms/step - loss: 1.8360 - acc: 0.1867\n",
            "Epoch 13/15\n",
            "75/75 [==============================] - 56s 745ms/step - loss: 1.8279 - acc: 0.2150\n",
            "Epoch 14/15\n",
            "75/75 [==============================] - 56s 745ms/step - loss: 1.8237 - acc: 0.2150\n",
            "Epoch 15/15\n",
            "75/75 [==============================] - 56s 744ms/step - loss: 1.8322 - acc: 0.2317\n"
          ]
        }
      ]
    },
    {
      "cell_type": "code",
      "source": [
        "#test data on 200 videos\n",
        "results = model.evaluate(np.array(test_val), np.array(test_label))"
      ],
      "metadata": {
        "colab": {
          "base_uri": "https://localhost:8080/"
        },
        "id": "n6djZXSXBTkf",
        "outputId": "9bd56771-7060-4069-d194-49a3ba7c2c6e"
      },
      "execution_count": null,
      "outputs": [
        {
          "output_type": "stream",
          "name": "stdout",
          "text": [
            "7/7 [==============================] - 6s 594ms/step - loss: 1.7163 - acc: 0.2450\n"
          ]
        }
      ]
    }
  ]
}